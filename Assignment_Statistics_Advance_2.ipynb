{
  "nbformat": 4,
  "nbformat_minor": 0,
  "metadata": {
    "colab": {
      "provenance": []
    },
    "kernelspec": {
      "name": "python3",
      "display_name": "Python 3"
    },
    "language_info": {
      "name": "python"
    }
  },
  "cells": [
    {
      "cell_type": "markdown",
      "source": [
        "***Statistics Part 2***"
      ],
      "metadata": {
        "id": "86l922nIfhTR"
      }
    },
    {
      "cell_type": "markdown",
      "source": [
        "1. What is hypothesis testing in statistics?\n",
        "- Hypothesis testing in statistics is a method used to make decisions or inferences about population parameters based on sample data. It helps you determine whether there is enough statistical evidence in favor of a certain belief (hypothesis) about a population.\n",
        "\n",
        "2. What is the null hypothesis, and how does it differ from the alternative hypothesis?\n",
        "- The null hypothesis is a statement that assumes no effect, no difference, or no relationship exists between variables. It serves as the starting point for statistical testing and is what you're trying to test against.\n",
        "\n",
        "3. What is the significance level in hypothesis testing, and why is it important?\n",
        "- The significance level, denoted by α (alpha), is the threshold probability used to decide whether to reject the null hypothesis (H₀).\n",
        "\n",
        "4. What does a P-value represent in hypothesis testing?\n",
        "- The P-value (probability value) is the probability of observing your sample results, or more extreme results, assuming the null hypothesis (H₀) is true.\n",
        "\n",
        "5. How do you interpret the P-value in hypothesis testing?\n",
        "- The P-value tells you how likely your sample result (or something more extreme) is, if the null hypothesis (H₀) is actually true.\\\n",
        "\n",
        "6. What are Type 1 and Type 2 errors in hypothesis testing?\n",
        "- In hypothesis testing, we can make two kinds of mistakes when making a decision based on sample data. These are called Type I and Type II errors.\n",
        "\n",
        "7.  What is the difference between a one-tailed and a two-tailed test in hypothesis testing?\n",
        "- In hypothesis testing, the \"tail\" refers to which direction(s) you're testing for a significant difference or effect. It depends on your alternative hypothesis (H₁).\n",
        "\n",
        "8. What is the Z-test, and when is it used in hypothesis testing?\n",
        "- A Z-test is a statistical test used to determine whether there's a significant difference between sample and population means (or between two means), when the population standard deviation (σ) is known.\n",
        "\n",
        "9. How do you calculate the Z-score, and what does it represent in hypothesis testing?\n",
        "- The Z-score (or Z-statistic) tells you how many standard deviations your sample statistic is from the null hypothesis mean. It helps you determine how extreme your result is under the assumption that the null hypothesis (H₀) is true.\n",
        "\n",
        "10. What is the T-distribution, and when should it be used instead of the normal distribution?\n",
        "- The T-distribution, or Student's t-distribution, is a probability distribution used in inferential statistics when:\n",
        "\n",
        " The sample size is small (usually n < 30)\n",
        "\n",
        " The population standard deviation (σ) is unknown\n",
        "\n",
        "11. What is the difference between a Z-test and a T-test?\n",
        "- Both Z-test and T-test are used in hypothesis testing to compare sample data to a population (or another sample). The key difference lies in what information is known and the sample size.\n",
        "\n",
        "12. What is the T-test, and how is it used in hypothesis testing?\n",
        "- A T-test is a statistical test used to determine whether there is a significant difference between means, especially when the sample size is small and the population standard deviation (σ) is unknown.\n",
        "\n",
        "13. What is the relationship between Z-test and T-test in hypothesis testing?\n",
        "- The Z-test and T-test are both statistical methods used to determine whether to reject or fail to reject a null hypothesis. They are closely related, but differ based on the amount of information you have and the sample size.\n",
        "\n",
        "14. What is a confidence interval, and how is it used to interpret statistical results?\n",
        "- A confidence interval is a range of values, derived from sample data, that is likely to contain the true population parameter (like the mean or proportion) with a certain level of co\n",
        "\n",
        "15. What is the margin of error, and how does it affect the confidence interval?\n",
        "- The margin of error is the maximum expected difference between the sample estimate (like the sample mean or proportion) and the true population value.\n",
        "\n",
        "16. How is Bayes' Theorem used in statistics, and what is its significance?\n",
        "- Bayes’ Theorem is a fundamental concept in probability and statistics that describes how to update the probability of a hypothesis based on new evidence.\n",
        "\n",
        "17.  What is the Chi-square distribution, and when is it used?\n",
        "- The Chi-square distribution is a right-skewed probability distribution commonly used in statistical hypothesis testing involving categorical data. It is formed by summing the squares of independent standard normal variables.\n",
        "\n",
        "18.  What is the Chi-square goodness of fit test, and how is it applied?\n",
        "- The Chi-square goodness of fit test is a statistical test used to determine how well observed data match a theoretical or expected distribution. It checks whether a sample fits a population with a specific distribution.\n",
        "\n",
        "19. What is the F-distribution, and when is it used in hypothesis testing?\n",
        "- The F-distribution is a right-skewed probability distribution that arises when comparing two variances. It’s used primarily in hypothesis testing for problems involving ratios of variances or comparing multiple group means.\n",
        "\n",
        "20. What is an ANOVA test, and what are its assumptions?\n",
        "- ANOVA (Analysis of Variance) is a statistical method used to test whether there are significant differences between the means of three or more groups.\n",
        "\n",
        "21. What are the different types of ANOVA test?\n",
        "- ANOVA is used to compare means across multiple groups. The type of ANOVA you choose depends on:\n",
        "\n",
        " The number of independent variables (factors)\n",
        "\n",
        " Whether the same subjects are used across treatments\n",
        "\n",
        " Whether there is interaction between factors\n",
        "\n",
        "22. What is the F-test, and how does it relate to hypothesis testing?\n",
        "- The F-test is a statistical test used to compare two variances or to test the overall significance of models like ANOVA or regression.\n",
        "\n",
        "\n",
        "\n"
      ],
      "metadata": {
        "id": "n0BBA-RlfkHM"
      }
    },
    {
      "cell_type": "code",
      "source": [
        "#Practical Part - 1"
      ],
      "metadata": {
        "id": "k5opnKvnjOqf"
      },
      "execution_count": 2,
      "outputs": []
    },
    {
      "cell_type": "code",
      "source": [
        "#1. Write a Python program to generate a random variable and display its value.\n",
        "'''\n",
        "import random\n",
        "\n",
        "x = random.uniform(0, 1)  # Random float between 0 and 1\n",
        "print(\"Random variable:\", x)\n",
        "\n",
        "'''"
      ],
      "metadata": {
        "colab": {
          "base_uri": "https://localhost:8080/",
          "height": 35
        },
        "id": "2R5StyGdjWhy",
        "outputId": "b69b528c-58f3-4d3a-fa5d-dc27aaa1f7c8"
      },
      "execution_count": 3,
      "outputs": [
        {
          "output_type": "execute_result",
          "data": {
            "text/plain": [
              "'\\nimport random\\n\\nx = random.uniform(0, 1)  # Random float between 0 and 1\\nprint(\"Random variable:\", x)\\n\\n'"
            ],
            "application/vnd.google.colaboratory.intrinsic+json": {
              "type": "string"
            }
          },
          "metadata": {},
          "execution_count": 3
        }
      ]
    },
    {
      "cell_type": "code",
      "source": [
        "#2. Generate a discrete uniform distribution using Python and plot the probability mass function (PMF).\n",
        "'''\n",
        "import numpy as np\n",
        "import matplotlib.pyplot as plt\n",
        "from scipy.stats import randint\n",
        "\n",
        "# Parameters for discrete uniform: values from 1 to 6 (like a die)\n",
        "low, high = 1, 7\n",
        "x = np.arange(low, high)\n",
        "pmf = randint.pmf(x, low, high)\n",
        "\n",
        "# Plotting the PMF\n",
        "plt.stem(x, pmf, use_line_collection=True)\n",
        "plt.title(\"PMF of Discrete Uniform Distribution\")\n",
        "plt.xlabel(\"x\")\n",
        "plt.ylabel(\"P(X = x)\")\n",
        "plt.grid(True)\n",
        "plt.show()\n",
        "\n",
        "'''"
      ],
      "metadata": {
        "colab": {
          "base_uri": "https://localhost:8080/",
          "height": 70
        },
        "id": "QWIcVQE7kSvc",
        "outputId": "3393c249-4cc7-496a-82c7-6109b1f23aa6"
      },
      "execution_count": 4,
      "outputs": [
        {
          "output_type": "execute_result",
          "data": {
            "text/plain": [
              "'\\nimport numpy as np\\nimport matplotlib.pyplot as plt\\nfrom scipy.stats import randint\\n\\n# Parameters for discrete uniform: values from 1 to 6 (like a die)\\nlow, high = 1, 7\\nx = np.arange(low, high)\\npmf = randint.pmf(x, low, high)\\n\\n# Plotting the PMF\\nplt.stem(x, pmf, use_line_collection=True)\\nplt.title(\"PMF of Discrete Uniform Distribution\")\\nplt.xlabel(\"x\")\\nplt.ylabel(\"P(X = x)\")\\nplt.grid(True)\\nplt.show()\\n\\n'"
            ],
            "application/vnd.google.colaboratory.intrinsic+json": {
              "type": "string"
            }
          },
          "metadata": {},
          "execution_count": 4
        }
      ]
    },
    {
      "cell_type": "code",
      "source": [
        "#3. Write a Python function to calculate the probability distribution function (PDF) of a Bernoulli distribution.\n",
        "'''\n",
        "from scipy.stats import bernoulli\n",
        "\n",
        "def bernoulli_pdf(p, x):\n",
        "    return bernoulli.pmf(x, p)\n",
        "\n",
        "# Example usage\n",
        "print(bernoulli_pdf(0.7, 1))  # P(X=1)\n",
        "print(bernoulli_pdf(0.7, 0))  # P(X=0)\n",
        "\n",
        "'''"
      ],
      "metadata": {
        "colab": {
          "base_uri": "https://localhost:8080/",
          "height": 53
        },
        "id": "8oairw4pk9Vm",
        "outputId": "d3677a88-83e4-42dd-e970-50db4c4110f7"
      },
      "execution_count": 5,
      "outputs": [
        {
          "output_type": "execute_result",
          "data": {
            "text/plain": [
              "'\\nfrom scipy.stats import bernoulli\\n\\ndef bernoulli_pdf(p, x):\\n    return bernoulli.pmf(x, p)\\n\\n# Example usage\\nprint(bernoulli_pdf(0.7, 1))  # P(X=1)\\nprint(bernoulli_pdf(0.7, 0))  # P(X=0)\\n\\n'"
            ],
            "application/vnd.google.colaboratory.intrinsic+json": {
              "type": "string"
            }
          },
          "metadata": {},
          "execution_count": 5
        }
      ]
    },
    {
      "cell_type": "code",
      "source": [
        "#4. Perform a two-tailed Z-test using Python and visualize the decision region on a plot.\n",
        "'''\n",
        "import numpy as np\n",
        "import matplotlib.pyplot as plt\n",
        "from scipy.stats import norm\n",
        "\n",
        "# Sample data\n",
        "sample_mean = 102\n",
        "population_mean = 100\n",
        "std_dev = 10\n",
        "n = 36\n",
        "\n",
        "# Z-test\n",
        "z = (sample_mean - population_mean) / (std_dev / np.sqrt(n))\n",
        "p_value = 2 * (1 - norm.cdf(abs(z)))\n",
        "print(\"Z-score:\", z)\n",
        "print(\"P-value:\", p_value)\n",
        "\n",
        "# Plotting\n",
        "x = np.linspace(-4, 4, 1000)\n",
        "y = norm.pdf(x)\n",
        "\n",
        "plt.plot(x, y, label='Standard Normal Curve')\n",
        "plt.fill_between(x, y, where=(x < -1.96) | (x > 1.96), color='red', alpha=0.3, label='Rejection Region (α=0.05)')\n",
        "plt.axvline(z, color='blue', linestyle='--', label=f'Z = {z:.2f}')\n",
        "plt.title(\"Two-Tailed Z-Test\")\n",
        "plt.legend()\n",
        "plt.grid(True)\n",
        "plt.show()\n",
        "\n",
        "'''"
      ],
      "metadata": {
        "colab": {
          "base_uri": "https://localhost:8080/",
          "height": 105
        },
        "id": "4zIxph5ylHVw",
        "outputId": "ebe4b58f-1145-4044-c863-09c8e8a4d61c"
      },
      "execution_count": 6,
      "outputs": [
        {
          "output_type": "execute_result",
          "data": {
            "text/plain": [
              "'\\nimport numpy as np\\nimport matplotlib.pyplot as plt\\nfrom scipy.stats import norm\\n\\n# Sample data\\nsample_mean = 102\\npopulation_mean = 100\\nstd_dev = 10\\nn = 36\\n\\n# Z-test\\nz = (sample_mean - population_mean) / (std_dev / np.sqrt(n))\\np_value = 2 * (1 - norm.cdf(abs(z)))\\nprint(\"Z-score:\", z)\\nprint(\"P-value:\", p_value)\\n\\n# Plotting\\nx = np.linspace(-4, 4, 1000)\\ny = norm.pdf(x)\\n\\nplt.plot(x, y, label=\\'Standard Normal Curve\\')\\nplt.fill_between(x, y, where=(x < -1.96) | (x > 1.96), color=\\'red\\', alpha=0.3, label=\\'Rejection Region (α=0.05)\\')\\nplt.axvline(z, color=\\'blue\\', linestyle=\\'--\\', label=f\\'Z = {z:.2f}\\')\\nplt.title(\"Two-Tailed Z-Test\")\\nplt.legend()\\nplt.grid(True)\\nplt.show()\\n\\n'"
            ],
            "application/vnd.google.colaboratory.intrinsic+json": {
              "type": "string"
            }
          },
          "metadata": {},
          "execution_count": 6
        }
      ]
    },
    {
      "cell_type": "code",
      "source": [
        "#5. Create a Python function that calculates and visualizes Type 1 and Type 2 errors during hypothesis testing.\n",
        "'''\n",
        "import numpy as np\n",
        "import matplotlib.pyplot as plt\n",
        "from scipy.stats import norm\n",
        "\n",
        "def visualize_errors(mu0, mu1, sigma, n, alpha=0.05):\n",
        "    se = sigma / np.sqrt(n)\n",
        "    z_crit = norm.ppf(1 - alpha)\n",
        "    x = np.linspace(mu0 - 4*se, mu1 + 4*se, 1000)\n",
        "\n",
        "    # Distributions\n",
        "    y0 = norm.pdf(x, mu0, se)  # H0 distribution\n",
        "    y1 = norm.pdf(x, mu1, se)  # H1 distribution\n",
        "\n",
        "    # Critical value\n",
        "    crit_val = mu0 + z_crit * se\n",
        "\n",
        "    # Plot\n",
        "    plt.plot(x, y0, label=\"H₀ Distribution\", color='blue')\n",
        "    plt.plot(x, y1, label=\"H₁ Distribution\", color='green')\n",
        "\n",
        "    # Type I error (α)\n",
        "    plt.fill_between(x, y0, where=(x >= crit_val), color='red', alpha=0.3, label='Type I Error (α)')\n",
        "\n",
        "    # Type II error (β)\n",
        "    plt.fill_between(x, y1, where=(x < crit_val), color='orange', alpha=0.3, label='Type II Error (β)')\n",
        "\n",
        "    plt.axvline(crit_val, color='black', linestyle='--', label=f'Critical Value = {crit_val:.2f}')\n",
        "    plt.title(\"Type I and Type II Errors\")\n",
        "    plt.xlabel(\"Test Statistic\")\n",
        "    plt.ylabel(\"Probability Density\")\n",
        "    plt.legend()\n",
        "    plt.grid(True)\n",
        "    plt.show()\n",
        "\n",
        "# Example usage\n",
        "visualize_errors(mu0=100, mu1=103, sigma=10, n=36, alpha=0.05)\n",
        "\n",
        "'''"
      ],
      "metadata": {
        "colab": {
          "base_uri": "https://localhost:8080/",
          "height": 140
        },
        "id": "c_AVtE9EltQj",
        "outputId": "b2cdb4b2-f335-4d08-dc44-9c6269f9a332"
      },
      "execution_count": 7,
      "outputs": [
        {
          "output_type": "execute_result",
          "data": {
            "text/plain": [
              "'\\nimport numpy as np\\nimport matplotlib.pyplot as plt\\nfrom scipy.stats import norm\\n\\ndef visualize_errors(mu0, mu1, sigma, n, alpha=0.05):\\n    se = sigma / np.sqrt(n)\\n    z_crit = norm.ppf(1 - alpha)\\n    x = np.linspace(mu0 - 4*se, mu1 + 4*se, 1000)\\n\\n    # Distributions\\n    y0 = norm.pdf(x, mu0, se)  # H0 distribution\\n    y1 = norm.pdf(x, mu1, se)  # H1 distribution\\n\\n    # Critical value\\n    crit_val = mu0 + z_crit * se\\n\\n    # Plot\\n    plt.plot(x, y0, label=\"H₀ Distribution\", color=\\'blue\\')\\n    plt.plot(x, y1, label=\"H₁ Distribution\", color=\\'green\\')\\n    \\n    # Type I error (α)\\n    plt.fill_between(x, y0, where=(x >= crit_val), color=\\'red\\', alpha=0.3, label=\\'Type I Error (α)\\')\\n    \\n    # Type II error (β)\\n    plt.fill_between(x, y1, where=(x < crit_val), color=\\'orange\\', alpha=0.3, label=\\'Type II Error (β)\\')\\n    \\n    plt.axvline(crit_val, color=\\'black\\', linestyle=\\'--\\', label=f\\'Critical Value = {crit_val:.2f}\\')\\n    plt.title(\"Type I and Type II Errors\")\\n    plt.xlabel(\"Test Statistic\")\\n    plt.ylabel(\"Probability Density\")\\n    plt.legend()\\n    plt.grid(True)\\n    plt.show()\\n\\n# Example usage\\nvisualize_errors(mu0=100, mu1=103, sigma=10, n=36, alpha=0.05)\\n\\n'"
            ],
            "application/vnd.google.colaboratory.intrinsic+json": {
              "type": "string"
            }
          },
          "metadata": {},
          "execution_count": 7
        }
      ]
    },
    {
      "cell_type": "code",
      "source": [
        "#6.  Write a Python program to perform an independent T-test and interpret the results.\n",
        "'''\n",
        "from scipy.stats import ttest_ind\n",
        "\n",
        "# Sample data from two independent groups\n",
        "group1 = [12, 15, 14, 10, 13]\n",
        "group2 = [16, 18, 17, 14, 19]\n",
        "\n",
        "# Perform independent t-test\n",
        "t_stat, p_val = ttest_ind(group1, group2)\n",
        "\n",
        "print(\"T-statistic:\", t_stat)\n",
        "print(\"P-value:\", p_val)\n",
        "\n",
        "# Interpretation\n",
        "alpha = 0.05\n",
        "if p_val < alpha:\n",
        "    print(\"Reject H₀: Means are significantly different.\")\n",
        "else:\n",
        "    print(\"Fail to reject H₀: No significant difference in means.\")\n",
        "\n",
        "'''"
      ],
      "metadata": {
        "colab": {
          "base_uri": "https://localhost:8080/",
          "height": 70
        },
        "id": "TNplq08kl3vm",
        "outputId": "4a911e21-aafa-433e-9400-589f8a0885d0"
      },
      "execution_count": 17,
      "outputs": [
        {
          "output_type": "execute_result",
          "data": {
            "text/plain": [
              "'\\nfrom scipy.stats import ttest_ind\\n\\n# Sample data from two independent groups\\ngroup1 = [12, 15, 14, 10, 13]\\ngroup2 = [16, 18, 17, 14, 19]\\n\\n# Perform independent t-test\\nt_stat, p_val = ttest_ind(group1, group2)\\n\\nprint(\"T-statistic:\", t_stat)\\nprint(\"P-value:\", p_val)\\n\\n# Interpretation\\nalpha = 0.05\\nif p_val < alpha:\\n    print(\"Reject H₀: Means are significantly different.\")\\nelse:\\n    print(\"Fail to reject H₀: No significant difference in means.\")\\n\\n'"
            ],
            "application/vnd.google.colaboratory.intrinsic+json": {
              "type": "string"
            }
          },
          "metadata": {},
          "execution_count": 17
        }
      ]
    },
    {
      "cell_type": "code",
      "source": [
        "#7. Generate a continuous uniform distribution using NumPy and visualize it.\n",
        "'''\n",
        "import numpy as np\n",
        "import matplotlib.pyplot as plt\n",
        "\n",
        "# Generate uniform data between 0 and 1\n",
        "data = np.random.uniform(low=0, high=1, size=1000)\n",
        "\n",
        "# Plot histogram\n",
        "plt.hist(data, bins=20, color='skyblue', edgecolor='black', density=True)\n",
        "plt.title(\"Continuous Uniform Distribution\")\n",
        "plt.xlabel(\"Value\")\n",
        "plt.ylabel(\"Density\")\n",
        "plt.grid(True)\n",
        "plt.show()\n",
        "\n",
        "'''"
      ],
      "metadata": {
        "colab": {
          "base_uri": "https://localhost:8080/",
          "height": 70
        },
        "id": "B3F24gWUrlmU",
        "outputId": "e456e6bc-2d42-48c0-ab26-2d0046ad52c2"
      },
      "execution_count": 26,
      "outputs": [
        {
          "output_type": "execute_result",
          "data": {
            "text/plain": [
              "'\\nimport numpy as np\\nimport matplotlib.pyplot as plt\\n\\n# Generate uniform data between 0 and 1\\ndata = np.random.uniform(low=0, high=1, size=1000)\\n\\n# Plot histogram\\nplt.hist(data, bins=20, color=\\'skyblue\\', edgecolor=\\'black\\', density=True)\\nplt.title(\"Continuous Uniform Distribution\")\\nplt.xlabel(\"Value\")\\nplt.ylabel(\"Density\")\\nplt.grid(True)\\nplt.show()\\n\\n'"
            ],
            "application/vnd.google.colaboratory.intrinsic+json": {
              "type": "string"
            }
          },
          "metadata": {},
          "execution_count": 26
        }
      ]
    },
    {
      "cell_type": "code",
      "source": [
        "#8. Simulate data from a normal distribution and plot its histogram.\n",
        "'''\n",
        "data = np.random.normal(loc=50, scale=10, size=1000)\n",
        "\n",
        "plt.hist(data, bins=30, color='lightgreen', edgecolor='black', density=True)\n",
        "plt.title(\"Histogram of Normally Distributed Data\")\n",
        "plt.xlabel(\"Value\")\n",
        "plt.ylabel(\"Density\")\n",
        "plt.grid(True)\n",
        "plt.show()\n",
        "\n",
        "'''"
      ],
      "metadata": {
        "colab": {
          "base_uri": "https://localhost:8080/",
          "height": 53
        },
        "id": "w0wURVfCrlqc",
        "outputId": "104b00e3-f0d0-42c0-bbea-9a2a636d15f1"
      },
      "execution_count": 27,
      "outputs": [
        {
          "output_type": "execute_result",
          "data": {
            "text/plain": [
              "'\\ndata = np.random.normal(loc=50, scale=10, size=1000)\\n\\nplt.hist(data, bins=30, color=\\'lightgreen\\', edgecolor=\\'black\\', density=True)\\nplt.title(\"Histogram of Normally Distributed Data\")\\nplt.xlabel(\"Value\")\\nplt.ylabel(\"Density\")\\nplt.grid(True)\\nplt.show()\\n\\n'"
            ],
            "application/vnd.google.colaboratory.intrinsic+json": {
              "type": "string"
            }
          },
          "metadata": {},
          "execution_count": 27
        }
      ]
    },
    {
      "cell_type": "code",
      "source": [
        "#9. Write a Python function to calculate Z-scores from a dataset and plot them.\n",
        "'''\n",
        "def calculate_and_plot_zscores(data):\n",
        "    mean = np.mean(data)\n",
        "    std = np.std(data)\n",
        "    z_scores = (data - mean) / std\n",
        "\n",
        "    # Plot\n",
        "    plt.hist(z_scores, bins=30, color='orange', edgecolor='black', density=True)\n",
        "    plt.title(\"Z-score Distribution\")\n",
        "    plt.xlabel(\"Z-score\")\n",
        "    plt.ylabel(\"Density\")\n",
        "    plt.grid(True)\n",
        "    plt.show()\n",
        "\n",
        "    return z_scores\n",
        "\n",
        "# Example usage\n",
        "data = np.random.normal(100, 15, size=1000)\n",
        "z_scores = calculate_and_plot_zscores(data)\n",
        "\n",
        "'''"
      ],
      "metadata": {
        "colab": {
          "base_uri": "https://localhost:8080/",
          "height": 87
        },
        "id": "ESzw4tEXrpo2",
        "outputId": "52630ec8-a506-4833-8c06-c4e101a9144e"
      },
      "execution_count": 28,
      "outputs": [
        {
          "output_type": "execute_result",
          "data": {
            "text/plain": [
              "'\\ndef calculate_and_plot_zscores(data):\\n    mean = np.mean(data)\\n    std = np.std(data)\\n    z_scores = (data - mean) / std\\n\\n    # Plot\\n    plt.hist(z_scores, bins=30, color=\\'orange\\', edgecolor=\\'black\\', density=True)\\n    plt.title(\"Z-score Distribution\")\\n    plt.xlabel(\"Z-score\")\\n    plt.ylabel(\"Density\")\\n    plt.grid(True)\\n    plt.show()\\n\\n    return z_scores\\n\\n# Example usage\\ndata = np.random.normal(100, 15, size=1000)\\nz_scores = calculate_and_plot_zscores(data)\\n\\n'"
            ],
            "application/vnd.google.colaboratory.intrinsic+json": {
              "type": "string"
            }
          },
          "metadata": {},
          "execution_count": 28
        }
      ]
    },
    {
      "cell_type": "code",
      "source": [
        "#10. Implement the Central Limit Theorem (CLT) using Python for a non-normal distribution.\n",
        "'''\n",
        "# Skewed (exponential) population\n",
        "population = np.random.exponential(scale=2.0, size=100000)\n",
        "\n",
        "sample_means = []\n",
        "for _ in range(1000):\n",
        "    sample = np.random.choice(population, size=30)\n",
        "    sample_means.append(np.mean(sample))\n",
        "\n",
        "# Plot sample means\n",
        "plt.hist(sample_means, bins=30, color='purple', edgecolor='black', density=True)\n",
        "plt.title(\"Sampling Distribution of the Mean (CLT Demo)\")\n",
        "plt.xlabel(\"Sample Mean\")\n",
        "plt.ylabel(\"Density\")\n",
        "plt.grid(True)\n",
        "plt.show()\n",
        "\n",
        "'''"
      ],
      "metadata": {
        "colab": {
          "base_uri": "https://localhost:8080/",
          "height": 87
        },
        "id": "jgtvFy1Krps4",
        "outputId": "13c4001e-2eaf-43c5-fff1-6b92ce7ca168"
      },
      "execution_count": 29,
      "outputs": [
        {
          "output_type": "execute_result",
          "data": {
            "text/plain": [
              "'\\n# Skewed (exponential) population\\npopulation = np.random.exponential(scale=2.0, size=100000)\\n\\nsample_means = []\\nfor _ in range(1000):\\n    sample = np.random.choice(population, size=30)\\n    sample_means.append(np.mean(sample))\\n\\n# Plot sample means\\nplt.hist(sample_means, bins=30, color=\\'purple\\', edgecolor=\\'black\\', density=True)\\nplt.title(\"Sampling Distribution of the Mean (CLT Demo)\")\\nplt.xlabel(\"Sample Mean\")\\nplt.ylabel(\"Density\")\\nplt.grid(True)\\nplt.show()\\n\\n'"
            ],
            "application/vnd.google.colaboratory.intrinsic+json": {
              "type": "string"
            }
          },
          "metadata": {},
          "execution_count": 29
        }
      ]
    },
    {
      "cell_type": "code",
      "source": [
        "#11. Simulate multiple samples from a normal distribution and verify the Central Limit Theorem.\\\n",
        "'''\n",
        "import numpy as np\n",
        "import matplotlib.pyplot as plt\n",
        "\n",
        "means = [np.mean(np.random.normal(loc=50, scale=10, size=30)) for _ in range(1000)]\n",
        "plt.hist(means, bins=30, color='skyblue', edgecolor='black', density=True)\n",
        "plt.title(\"CLT: Sampling Distribution of Sample Means\")\n",
        "plt.xlabel(\"Sample Mean\")\n",
        "plt.ylabel(\"Density\")\n",
        "plt.grid(True)\n",
        "plt.show()\n",
        "\n",
        "'''"
      ],
      "metadata": {
        "colab": {
          "base_uri": "https://localhost:8080/",
          "height": 70
        },
        "id": "craQWUyarpwf",
        "outputId": "0d821d1c-d0bd-49b7-e675-70232e29f5c4"
      },
      "execution_count": 30,
      "outputs": [
        {
          "output_type": "execute_result",
          "data": {
            "text/plain": [
              "'\\nimport numpy as np\\nimport matplotlib.pyplot as plt\\n\\nmeans = [np.mean(np.random.normal(loc=50, scale=10, size=30)) for _ in range(1000)]\\nplt.hist(means, bins=30, color=\\'skyblue\\', edgecolor=\\'black\\', density=True)\\nplt.title(\"CLT: Sampling Distribution of Sample Means\")\\nplt.xlabel(\"Sample Mean\")\\nplt.ylabel(\"Density\")\\nplt.grid(True)\\nplt.show()\\n\\n'"
            ],
            "application/vnd.google.colaboratory.intrinsic+json": {
              "type": "string"
            }
          },
          "metadata": {},
          "execution_count": 30
        }
      ]
    },
    {
      "cell_type": "code",
      "source": [
        "#12. Write a Python function to calculate and plot the standard normal distribution (mean = 0, std = 1).\n",
        "'''\n",
        "from scipy.stats import norm\n",
        "\n",
        "def plot_standard_normal():\n",
        "    x = np.linspace(-4, 4, 1000)\n",
        "    y = norm.pdf(x)\n",
        "    plt.plot(x, y, label=\"Standard Normal PDF\")\n",
        "    plt.title(\"Standard Normal Distribution (μ=0, σ=1)\")\n",
        "    plt.grid(True)\n",
        "    plt.legend()\n",
        "    plt.show()\n",
        "\n",
        "plot_standard_normal()\n",
        "\n",
        "'''"
      ],
      "metadata": {
        "colab": {
          "base_uri": "https://localhost:8080/",
          "height": 53
        },
        "id": "_TdxdfMSssD8",
        "outputId": "57128443-0da6-41ac-9e18-de3f4b1c779b"
      },
      "execution_count": 31,
      "outputs": [
        {
          "output_type": "execute_result",
          "data": {
            "text/plain": [
              "'\\nfrom scipy.stats import norm\\n\\ndef plot_standard_normal():\\n    x = np.linspace(-4, 4, 1000)\\n    y = norm.pdf(x)\\n    plt.plot(x, y, label=\"Standard Normal PDF\")\\n    plt.title(\"Standard Normal Distribution (μ=0, σ=1)\")\\n    plt.grid(True)\\n    plt.legend()\\n    plt.show()\\n\\nplot_standard_normal()\\n\\n'"
            ],
            "application/vnd.google.colaboratory.intrinsic+json": {
              "type": "string"
            }
          },
          "metadata": {},
          "execution_count": 31
        }
      ]
    },
    {
      "cell_type": "code",
      "source": [
        "#13. Generate random variables and calculate their corresponding probabilities using the binomial distribution.\n",
        "'''\n",
        "from scipy.stats import binom\n",
        "\n",
        "n, p = 10, 0.5\n",
        "x = np.arange(0, n+1)\n",
        "probs = binom.pmf(x, n, p)\n",
        "\n",
        "print(\"x:\", x)\n",
        "print(\"PMF:\", probs)\n",
        "\n",
        "'''"
      ],
      "metadata": {
        "colab": {
          "base_uri": "https://localhost:8080/",
          "height": 35
        },
        "id": "O-DPMpZYssJR",
        "outputId": "8c7f2829-166e-4a41-af86-b9debaf150e5"
      },
      "execution_count": 32,
      "outputs": [
        {
          "output_type": "execute_result",
          "data": {
            "text/plain": [
              "'\\nfrom scipy.stats import binom\\n\\nn, p = 10, 0.5\\nx = np.arange(0, n+1)\\nprobs = binom.pmf(x, n, p)\\n\\nprint(\"x:\", x)\\nprint(\"PMF:\", probs)\\n\\n'"
            ],
            "application/vnd.google.colaboratory.intrinsic+json": {
              "type": "string"
            }
          },
          "metadata": {},
          "execution_count": 32
        }
      ]
    },
    {
      "cell_type": "code",
      "source": [
        "#14. Write a Python program to calculate the Z-score for a given data point and compare it to a standard normal distribution.\n",
        "'''\n",
        "value = 110\n",
        "mean = 100\n",
        "std_dev = 15\n",
        "\n",
        "z = (value - mean) / std_dev\n",
        "prob = norm.cdf(z)\n",
        "\n",
        "print(\"Z-score:\", z)\n",
        "print(\"Probability below value (CDF):\", prob)\n",
        "\n",
        "'''"
      ],
      "metadata": {
        "colab": {
          "base_uri": "https://localhost:8080/",
          "height": 53
        },
        "id": "5SxXRRmdssMt",
        "outputId": "9fc46fbd-af2a-441c-d32e-629c5fb801b6"
      },
      "execution_count": 33,
      "outputs": [
        {
          "output_type": "execute_result",
          "data": {
            "text/plain": [
              "'\\nvalue = 110\\nmean = 100\\nstd_dev = 15\\n\\nz = (value - mean) / std_dev\\nprob = norm.cdf(z)\\n\\nprint(\"Z-score:\", z)\\nprint(\"Probability below value (CDF):\", prob)\\n\\n'"
            ],
            "application/vnd.google.colaboratory.intrinsic+json": {
              "type": "string"
            }
          },
          "metadata": {},
          "execution_count": 33
        }
      ]
    },
    {
      "cell_type": "code",
      "source": [
        "#15. Implement hypothesis testing using Z-statistics for a sample dataset.\n",
        "'''\n",
        "sample = np.random.normal(102, 5, size=30)\n",
        "mu = 100\n",
        "sigma = 5\n",
        "\n",
        "z = (np.mean(sample) - mu) / (sigma / np.sqrt(len(sample)))\n",
        "p = 2 * (1 - norm.cdf(abs(z)))\n",
        "\n",
        "print(\"Z:\", z, \"P-value:\", p)\n",
        "print(\"Conclusion:\", \"Reject H₀\" if p < 0.05 else \"Fail to reject H₀\")\n",
        "\n",
        "'''"
      ],
      "metadata": {
        "colab": {
          "base_uri": "https://localhost:8080/",
          "height": 53
        },
        "id": "h2ui2JoGssRH",
        "outputId": "6faa618b-81e3-4338-e5f5-de1407164979"
      },
      "execution_count": 34,
      "outputs": [
        {
          "output_type": "execute_result",
          "data": {
            "text/plain": [
              "'\\nsample = np.random.normal(102, 5, size=30)\\nmu = 100\\nsigma = 5\\n\\nz = (np.mean(sample) - mu) / (sigma / np.sqrt(len(sample)))\\np = 2 * (1 - norm.cdf(abs(z)))\\n\\nprint(\"Z:\", z, \"P-value:\", p)\\nprint(\"Conclusion:\", \"Reject H₀\" if p < 0.05 else \"Fail to reject H₀\")\\n\\n'"
            ],
            "application/vnd.google.colaboratory.intrinsic+json": {
              "type": "string"
            }
          },
          "metadata": {},
          "execution_count": 34
        }
      ]
    },
    {
      "cell_type": "code",
      "source": [
        "#16. Create a confidence interval for a dataset using Python and interpret the result.\n",
        "'''from scipy.stats import t\n",
        "\n",
        "data = np.random.normal(100, 10, size=20)\n",
        "mean = np.mean(data)\n",
        "se = np.std(data, ddof=1) / np.sqrt(len(data))\n",
        "ci = t.interval(0.95, df=len(data)-1, loc=mean, scale=se)\n",
        "\n",
        "print(\"95% Confidence Interval:\", ci)\n",
        "'''\n"
      ],
      "metadata": {
        "colab": {
          "base_uri": "https://localhost:8080/",
          "height": 53
        },
        "id": "_y6bEVu5ssYp",
        "outputId": "083576e6-7676-4d28-b5b6-5294a5d5d307"
      },
      "execution_count": 36,
      "outputs": [
        {
          "output_type": "execute_result",
          "data": {
            "text/plain": [
              "'from scipy.stats import t\\n\\ndata = np.random.normal(100, 10, size=20)\\nmean = np.mean(data)\\nse = np.std(data, ddof=1) / np.sqrt(len(data))\\nci = t.interval(0.95, df=len(data)-1, loc=mean, scale=se)\\n\\nprint(\"95% Confidence Interval:\", ci)\\n'"
            ],
            "application/vnd.google.colaboratory.intrinsic+json": {
              "type": "string"
            }
          },
          "metadata": {},
          "execution_count": 36
        }
      ]
    },
    {
      "cell_type": "code",
      "source": [
        "#17. Generate data from a normal distribution, then calculate and interpret the confidence interval for its mean.\n",
        "'''\n",
        "data = np.random.normal(50, 5, 40)\n",
        "mean = np.mean(data)\n",
        "se = np.std(data, ddof=1) / np.sqrt(len(data))\n",
        "ci = t.interval(0.95, df=len(data)-1, loc=mean, scale=se)\n",
        "\n",
        "print(\"Mean:\", mean)\n",
        "print(\"95% CI:\", ci)\n",
        "\n",
        "'''"
      ],
      "metadata": {
        "colab": {
          "base_uri": "https://localhost:8080/",
          "height": 53
        },
        "id": "3eNZNeISssb0",
        "outputId": "8aeb98d1-a19d-422e-ea94-c79ab2b17340"
      },
      "execution_count": 37,
      "outputs": [
        {
          "output_type": "execute_result",
          "data": {
            "text/plain": [
              "'\\ndata = np.random.normal(50, 5, 40)\\nmean = np.mean(data)\\nse = np.std(data, ddof=1) / np.sqrt(len(data))\\nci = t.interval(0.95, df=len(data)-1, loc=mean, scale=se)\\n\\nprint(\"Mean:\", mean)\\nprint(\"95% CI:\", ci)\\n\\n'"
            ],
            "application/vnd.google.colaboratory.intrinsic+json": {
              "type": "string"
            }
          },
          "metadata": {},
          "execution_count": 37
        }
      ]
    },
    {
      "cell_type": "code",
      "source": [
        "#18. Write a Python script to calculate and visualize the probability density function (PDF) of a normal distribution.\n",
        "'''\n",
        "mu, sigma = 0, 1\n",
        "x = np.linspace(-4, 4, 1000)\n",
        "y = norm.pdf(x, mu, sigma)\n",
        "\n",
        "plt.plot(x, y, color='blue')\n",
        "plt.title(\"Normal Distribution PDF (μ=0, σ=1)\")\n",
        "plt.grid(True)\n",
        "plt.show()\n",
        "\n",
        "'''"
      ],
      "metadata": {
        "colab": {
          "base_uri": "https://localhost:8080/",
          "height": 53
        },
        "id": "JUn3u3K0sse9",
        "outputId": "23d40597-cedc-4b89-f87f-a9d260b13672"
      },
      "execution_count": 38,
      "outputs": [
        {
          "output_type": "execute_result",
          "data": {
            "text/plain": [
              "'\\nmu, sigma = 0, 1\\nx = np.linspace(-4, 4, 1000)\\ny = norm.pdf(x, mu, sigma)\\n\\nplt.plot(x, y, color=\\'blue\\')\\nplt.title(\"Normal Distribution PDF (μ=0, σ=1)\")\\nplt.grid(True)\\nplt.show()\\n\\n'"
            ],
            "application/vnd.google.colaboratory.intrinsic+json": {
              "type": "string"
            }
          },
          "metadata": {},
          "execution_count": 38
        }
      ]
    },
    {
      "cell_type": "code",
      "source": [
        "#19. Use Python to calculate and interpret the cumulative distribution function (CDF) of a Poisson distribution.\n",
        "'''\n",
        "from scipy.stats import poisson\n",
        "\n",
        "mu = 3\n",
        "x = 5\n",
        "cdf_val = poisson.cdf(x, mu)\n",
        "\n",
        "print(f\"P(X ≤ {x}) for Poisson(λ={mu}):\", cdf_val)\n",
        "\n",
        "'''"
      ],
      "metadata": {
        "colab": {
          "base_uri": "https://localhost:8080/",
          "height": 35
        },
        "id": "64epNk0Vssiv",
        "outputId": "7e5334ac-199e-4ce2-a140-e877461f4746"
      },
      "execution_count": 39,
      "outputs": [
        {
          "output_type": "execute_result",
          "data": {
            "text/plain": [
              "'\\nfrom scipy.stats import poisson\\n\\nmu = 3\\nx = 5\\ncdf_val = poisson.cdf(x, mu)\\n\\nprint(f\"P(X ≤ {x}) for Poisson(λ={mu}):\", cdf_val)\\n\\n'"
            ],
            "application/vnd.google.colaboratory.intrinsic+json": {
              "type": "string"
            }
          },
          "metadata": {},
          "execution_count": 39
        }
      ]
    },
    {
      "cell_type": "code",
      "source": [
        "#20. Simulate a random variable using a continuous uniform distribution and calculate its expected value.\n",
        "'''\n",
        "a, b = 2, 8\n",
        "samples = np.random.uniform(a, b, 1000)\n",
        "expected_val = np.mean(samples)\n",
        "\n",
        "print(\"Expected value:\", expected_val)\n",
        "\n",
        "'''"
      ],
      "metadata": {
        "colab": {
          "base_uri": "https://localhost:8080/",
          "height": 35
        },
        "id": "TToV5DPwssmj",
        "outputId": "7449c1f3-30a3-428d-8a7b-94f9ad4ead1b"
      },
      "execution_count": 40,
      "outputs": [
        {
          "output_type": "execute_result",
          "data": {
            "text/plain": [
              "'\\na, b = 2, 8\\nsamples = np.random.uniform(a, b, 1000)\\nexpected_val = np.mean(samples)\\n\\nprint(\"Expected value:\", expected_val)\\n\\n'"
            ],
            "application/vnd.google.colaboratory.intrinsic+json": {
              "type": "string"
            }
          },
          "metadata": {},
          "execution_count": 40
        }
      ]
    },
    {
      "cell_type": "code",
      "source": [
        "#21. Write a Python program to compare the standard deviations of two datasets and visualize the difference.\n",
        "'''\n",
        "data1 = np.random.normal(100, 10, 100)\n",
        "data2 = np.random.normal(100, 20, 100)\n",
        "\n",
        "print(\"Std Dev 1:\", np.std(data1))\n",
        "print(\"Std Dev 2:\", np.std(data2))\n",
        "\n",
        "plt.boxplot([data1, data2], labels=[\"Data1\", \"Data2\"])\n",
        "plt.title(\"Comparison of Standard Deviations\")\n",
        "plt.grid(True)\n",
        "plt.show()\n",
        "\n",
        "'''"
      ],
      "metadata": {
        "colab": {
          "base_uri": "https://localhost:8080/",
          "height": 53
        },
        "id": "aF3SPgd-rp2Z",
        "outputId": "60f0ada0-9654-4d5b-d87a-40e4d385c9b5"
      },
      "execution_count": 41,
      "outputs": [
        {
          "output_type": "execute_result",
          "data": {
            "text/plain": [
              "'\\ndata1 = np.random.normal(100, 10, 100)\\ndata2 = np.random.normal(100, 20, 100)\\n\\nprint(\"Std Dev 1:\", np.std(data1))\\nprint(\"Std Dev 2:\", np.std(data2))\\n\\nplt.boxplot([data1, data2], labels=[\"Data1\", \"Data2\"])\\nplt.title(\"Comparison of Standard Deviations\")\\nplt.grid(True)\\nplt.show()\\n\\n'"
            ],
            "application/vnd.google.colaboratory.intrinsic+json": {
              "type": "string"
            }
          },
          "metadata": {},
          "execution_count": 41
        }
      ]
    },
    {
      "cell_type": "code",
      "source": [
        "#22. Calculate the range and interquartile range (IQR) of a dataset generated from a normal distribution.\n",
        "'''\n",
        "data = np.random.normal(50, 15, 100)\n",
        "data_range = np.max(data) - np.min(data)\n",
        "q75, q25 = np.percentile(data, [75, 25])\n",
        "iqr = q75 - q25\n",
        "\n",
        "print(\"Range:\", data_range)\n",
        "print(\"IQR:\", iqr)\n",
        "\n",
        "'''"
      ],
      "metadata": {
        "colab": {
          "base_uri": "https://localhost:8080/",
          "height": 53
        },
        "id": "7W5QVUStrp8l",
        "outputId": "350e5c1f-2b3c-44f5-ce67-bcf0f8eec296"
      },
      "execution_count": 42,
      "outputs": [
        {
          "output_type": "execute_result",
          "data": {
            "text/plain": [
              "'\\ndata = np.random.normal(50, 15, 100)\\ndata_range = np.max(data) - np.min(data)\\nq75, q25 = np.percentile(data, [75, 25])\\niqr = q75 - q25\\n\\nprint(\"Range:\", data_range)\\nprint(\"IQR:\", iqr)\\n\\n'"
            ],
            "application/vnd.google.colaboratory.intrinsic+json": {
              "type": "string"
            }
          },
          "metadata": {},
          "execution_count": 42
        }
      ]
    },
    {
      "cell_type": "code",
      "source": [
        "#23. Implement Z-score normalization on a dataset and visualize its transformation.\n",
        "'''\n",
        "data = np.random.normal(100, 20, 200)\n",
        "z_data = (data - np.mean(data)) / np.std(data)\n",
        "\n",
        "plt.hist(z_data, bins=30, color='purple', edgecolor='black', density=True)\n",
        "plt.title(\"Z-score Normalized Data\")\n",
        "plt.grid(True)\n",
        "plt.show()\n",
        "\n",
        "'''"
      ],
      "metadata": {
        "colab": {
          "base_uri": "https://localhost:8080/",
          "height": 53
        },
        "id": "3WgGXXE5rp_n",
        "outputId": "54c90172-00d7-424a-cfbb-9528d4347b92"
      },
      "execution_count": 43,
      "outputs": [
        {
          "output_type": "execute_result",
          "data": {
            "text/plain": [
              "'\\ndata = np.random.normal(100, 20, 200)\\nz_data = (data - np.mean(data)) / np.std(data)\\n\\nplt.hist(z_data, bins=30, color=\\'purple\\', edgecolor=\\'black\\', density=True)\\nplt.title(\"Z-score Normalized Data\")\\nplt.grid(True)\\nplt.show()\\n\\n'"
            ],
            "application/vnd.google.colaboratory.intrinsic+json": {
              "type": "string"
            }
          },
          "metadata": {},
          "execution_count": 43
        }
      ]
    },
    {
      "cell_type": "code",
      "source": [
        "#24. Write a Python function to calculate the skewness and kurtosis of a dataset generated from a normal distribution.\n",
        "'''\n",
        "from scipy.stats import skew, kurtosis\n",
        "\n",
        "def skew_kurt(data):\n",
        "    return skew(data), kurtosis(data)\n",
        "\n",
        "data = np.random.normal(0, 1, 1000)\n",
        "s, k = skew_kurt(data)\n",
        "print(\"Skewness:\", s)\n",
        "print(\"Kurtosis:\", k)\n",
        "\n",
        "'''"
      ],
      "metadata": {
        "colab": {
          "base_uri": "https://localhost:8080/",
          "height": 53
        },
        "id": "7NNKPKQsuylv",
        "outputId": "35e88078-8017-442e-e6e0-d024f803464d"
      },
      "execution_count": 44,
      "outputs": [
        {
          "output_type": "execute_result",
          "data": {
            "text/plain": [
              "'\\nfrom scipy.stats import skew, kurtosis\\n\\ndef skew_kurt(data):\\n    return skew(data), kurtosis(data)\\n\\ndata = np.random.normal(0, 1, 1000)\\ns, k = skew_kurt(data)\\nprint(\"Skewness:\", s)\\nprint(\"Kurtosis:\", k)\\n\\n'"
            ],
            "application/vnd.google.colaboratory.intrinsic+json": {
              "type": "string"
            }
          },
          "metadata": {},
          "execution_count": 44
        }
      ]
    },
    {
      "cell_type": "code",
      "source": [
        "#Practical Part - 2"
      ],
      "metadata": {
        "id": "Z86OLrYire4S"
      },
      "execution_count": 24,
      "outputs": []
    },
    {
      "cell_type": "code",
      "source": [
        "#1. Write a Python program to perform a Z-test for comparing a sample mean to a known population mean and interpret the results.\n",
        "'''\n",
        "from scipy.stats import norm\n",
        "import numpy as np\n",
        "\n",
        "sample = [105, 110, 98, 100, 102]\n",
        "mu = 100  # population mean\n",
        "sigma = 10  # known population std\n",
        "n = len(sample)\n",
        "\n",
        "z = (np.mean(sample) - mu) / (sigma / np.sqrt(n))\n",
        "p = 2 * (1 - norm.cdf(abs(z)))\n",
        "\n",
        "print(\"Z-score:\", z)\n",
        "print(\"P-value:\", p)\n",
        "print(\"Interpretation:\", \"Reject H₀\" if p < 0.05 else \"Fail to reject H₀\")\n",
        "\n",
        "'''"
      ],
      "metadata": {
        "colab": {
          "base_uri": "https://localhost:8080/",
          "height": 70
        },
        "id": "x74bx5yCqUwd",
        "outputId": "e3494f49-8a92-4968-a04d-7d84161bb612"
      },
      "execution_count": 18,
      "outputs": [
        {
          "output_type": "execute_result",
          "data": {
            "text/plain": [
              "'\\nfrom scipy.stats import norm\\nimport numpy as np\\n\\nsample = [105, 110, 98, 100, 102]\\nmu = 100  # population mean\\nsigma = 10  # known population std\\nn = len(sample)\\n\\nz = (np.mean(sample) - mu) / (sigma / np.sqrt(n))\\np = 2 * (1 - norm.cdf(abs(z)))\\n\\nprint(\"Z-score:\", z)\\nprint(\"P-value:\", p)\\nprint(\"Interpretation:\", \"Reject H₀\" if p < 0.05 else \"Fail to reject H₀\")\\n\\n'"
            ],
            "application/vnd.google.colaboratory.intrinsic+json": {
              "type": "string"
            }
          },
          "metadata": {},
          "execution_count": 18
        }
      ]
    },
    {
      "cell_type": "code",
      "source": [
        "#2. Simulate random data to perform hypothesis testing and calculate the corresponding P-value using Python.\n",
        "'''\n",
        "np.random.seed(0)\n",
        "data = np.random.normal(loc=50, scale=5, size=100)\n",
        "mu = 52\n",
        "\n",
        "z = (np.mean(data) - mu) / (np.std(data, ddof=1) / np.sqrt(len(data)))\n",
        "p_value = 2 * (1 - norm.cdf(abs(z)))\n",
        "\n",
        "print(\"Sample mean:\", np.mean(data))\n",
        "print(\"Z-score:\", z)\n",
        "print(\"P-value:\", p_value)\n",
        "\n",
        "'''"
      ],
      "metadata": {
        "colab": {
          "base_uri": "https://localhost:8080/",
          "height": 53
        },
        "id": "6Vdgso3Tqpg1",
        "outputId": "0ace9a0a-d6da-4dd8-da7f-0e2d1885a208"
      },
      "execution_count": 19,
      "outputs": [
        {
          "output_type": "execute_result",
          "data": {
            "text/plain": [
              "'\\nnp.random.seed(0)\\ndata = np.random.normal(loc=50, scale=5, size=100)\\nmu = 52\\n\\nz = (np.mean(data) - mu) / (np.std(data, ddof=1) / np.sqrt(len(data)))\\np_value = 2 * (1 - norm.cdf(abs(z)))\\n\\nprint(\"Sample mean:\", np.mean(data))\\nprint(\"Z-score:\", z)\\nprint(\"P-value:\", p_value)\\n\\n'"
            ],
            "application/vnd.google.colaboratory.intrinsic+json": {
              "type": "string"
            }
          },
          "metadata": {},
          "execution_count": 19
        }
      ]
    },
    {
      "cell_type": "code",
      "source": [
        "#3. Implement a one-sample Z-test using Python to compare the sample mean with the population mean.\n",
        "'''\n",
        "def one_sample_z_test(data, mu, sigma):\n",
        "    z = (np.mean(data) - mu) / (sigma / np.sqrt(len(data)))\n",
        "    p = 2 * (1 - norm.cdf(abs(z)))\n",
        "    return z, p\n",
        "\n",
        "# Example\n",
        "data = [101, 99, 100, 103, 97]\n",
        "z, p = one_sample_z_test(data, mu=100, sigma=5)\n",
        "print(\"Z-score:\", z)\n",
        "print(\"P-value:\", p)\n",
        "\n",
        "'''"
      ],
      "metadata": {
        "colab": {
          "base_uri": "https://localhost:8080/",
          "height": 53
        },
        "id": "Mw04IF_CqwCv",
        "outputId": "ae606c86-e74d-48d5-aa2b-9170853b35cc"
      },
      "execution_count": 20,
      "outputs": [
        {
          "output_type": "execute_result",
          "data": {
            "text/plain": [
              "'\\ndef one_sample_z_test(data, mu, sigma):\\n    z = (np.mean(data) - mu) / (sigma / np.sqrt(len(data)))\\n    p = 2 * (1 - norm.cdf(abs(z)))\\n    return z, p\\n\\n# Example\\ndata = [101, 99, 100, 103, 97]\\nz, p = one_sample_z_test(data, mu=100, sigma=5)\\nprint(\"Z-score:\", z)\\nprint(\"P-value:\", p)\\n\\n'"
            ],
            "application/vnd.google.colaboratory.intrinsic+json": {
              "type": "string"
            }
          },
          "metadata": {},
          "execution_count": 20
        }
      ]
    },
    {
      "cell_type": "code",
      "source": [
        "#4. Perform a two-tailed Z-test using Python and visualize the decision region on a plot.\n",
        "'''\n",
        "import matplotlib.pyplot as plt\n",
        "\n",
        "sample_mean = 102\n",
        "pop_mean = 100\n",
        "std_dev = 10\n",
        "n = 36\n",
        "\n",
        "z = (sample_mean - pop_mean) / (std_dev / np.sqrt(n))\n",
        "p = 2 * (1 - norm.cdf(abs(z)))\n",
        "print(\"Z-score:\", z, \"P-value:\", p)\n",
        "\n",
        "# Plot\n",
        "x = np.linspace(-4, 4, 1000)\n",
        "y = norm.pdf(x)\n",
        "\n",
        "plt.plot(x, y, label=\"Z-distribution\")\n",
        "plt.fill_between(x, y, where=(x < -1.96) | (x > 1.96), color='red', alpha=0.3, label='Rejection Region')\n",
        "plt.axvline(z, color='blue', linestyle='--', label=f\"Z = {z:.2f}\")\n",
        "plt.legend()\n",
        "plt.title(\"Two-Tailed Z-Test Decision Region\")\n",
        "plt.grid(True)\n",
        "plt.show()\n",
        "\n",
        "'''"
      ],
      "metadata": {
        "colab": {
          "base_uri": "https://localhost:8080/",
          "height": 87
        },
        "id": "fkObpALdq27N",
        "outputId": "a333a17c-7321-4692-d87b-22cae057187d"
      },
      "execution_count": 21,
      "outputs": [
        {
          "output_type": "execute_result",
          "data": {
            "text/plain": [
              "'\\nimport matplotlib.pyplot as plt\\n\\nsample_mean = 102\\npop_mean = 100\\nstd_dev = 10\\nn = 36\\n\\nz = (sample_mean - pop_mean) / (std_dev / np.sqrt(n))\\np = 2 * (1 - norm.cdf(abs(z)))\\nprint(\"Z-score:\", z, \"P-value:\", p)\\n\\n# Plot\\nx = np.linspace(-4, 4, 1000)\\ny = norm.pdf(x)\\n\\nplt.plot(x, y, label=\"Z-distribution\")\\nplt.fill_between(x, y, where=(x < -1.96) | (x > 1.96), color=\\'red\\', alpha=0.3, label=\\'Rejection Region\\')\\nplt.axvline(z, color=\\'blue\\', linestyle=\\'--\\', label=f\"Z = {z:.2f}\")\\nplt.legend()\\nplt.title(\"Two-Tailed Z-Test Decision Region\")\\nplt.grid(True)\\nplt.show()\\n\\n'"
            ],
            "application/vnd.google.colaboratory.intrinsic+json": {
              "type": "string"
            }
          },
          "metadata": {},
          "execution_count": 21
        }
      ]
    },
    {
      "cell_type": "code",
      "source": [
        "#5. Create a Python function that calculates and visualizes Type 1 and Type 2 errors during hypothesis testing.\n",
        "'''\n",
        "def visualize_errors(mu0, mu1, sigma, n, alpha=0.05):\n",
        "    se = sigma / np.sqrt(n)\n",
        "    z_crit = norm.ppf(1 - alpha)\n",
        "    x = np.linspace(mu0 - 4*se, mu1 + 4*se, 1000)\n",
        "\n",
        "    y0 = norm.pdf(x, mu0, se)\n",
        "    y1 = norm.pdf(x, mu1, se)\n",
        "\n",
        "    crit_val = mu0 + z_crit * se\n",
        "\n",
        "    plt.plot(x, y0, label=\"H₀ Distribution\", color='blue')\n",
        "    plt.plot(x, y1, label=\"H₁ Distribution\", color='green')\n",
        "    plt.fill_between(x, y0, where=(x >= crit_val), color='red', alpha=0.3, label='Type I Error (α)')\n",
        "    plt.fill_between(x, y1, where=(x < crit_val), color='orange', alpha=0.3, label='Type II Error (β)')\n",
        "    plt.axvline(crit_val, color='black', linestyle='--', label=f'Critical Value = {crit_val:.2f}')\n",
        "    plt.title(\"Type I and II Errors\")\n",
        "    plt.legend()\n",
        "    plt.grid(True)\n",
        "    plt.show()\n",
        "\n",
        "visualize_errors(mu0=100, mu1=103, sigma=10, n=36)\n",
        "\n",
        "'''"
      ],
      "metadata": {
        "colab": {
          "base_uri": "https://localhost:8080/",
          "height": 122
        },
        "id": "w9gg2_bNrBSe",
        "outputId": "4b86b667-0714-4304-c411-be02d19ce161"
      },
      "execution_count": 22,
      "outputs": [
        {
          "output_type": "execute_result",
          "data": {
            "text/plain": [
              "'\\ndef visualize_errors(mu0, mu1, sigma, n, alpha=0.05):\\n    se = sigma / np.sqrt(n)\\n    z_crit = norm.ppf(1 - alpha)\\n    x = np.linspace(mu0 - 4*se, mu1 + 4*se, 1000)\\n\\n    y0 = norm.pdf(x, mu0, se)\\n    y1 = norm.pdf(x, mu1, se)\\n\\n    crit_val = mu0 + z_crit * se\\n\\n    plt.plot(x, y0, label=\"H₀ Distribution\", color=\\'blue\\')\\n    plt.plot(x, y1, label=\"H₁ Distribution\", color=\\'green\\')\\n    plt.fill_between(x, y0, where=(x >= crit_val), color=\\'red\\', alpha=0.3, label=\\'Type I Error (α)\\')\\n    plt.fill_between(x, y1, where=(x < crit_val), color=\\'orange\\', alpha=0.3, label=\\'Type II Error (β)\\')\\n    plt.axvline(crit_val, color=\\'black\\', linestyle=\\'--\\', label=f\\'Critical Value = {crit_val:.2f}\\')\\n    plt.title(\"Type I and II Errors\")\\n    plt.legend()\\n    plt.grid(True)\\n    plt.show()\\n\\nvisualize_errors(mu0=100, mu1=103, sigma=10, n=36)\\n\\n'"
            ],
            "application/vnd.google.colaboratory.intrinsic+json": {
              "type": "string"
            }
          },
          "metadata": {},
          "execution_count": 22
        }
      ]
    },
    {
      "cell_type": "code",
      "source": [
        "#6. Write a Python program to perform an independent T-test and interpret the results.\n",
        "'''\n",
        "from scipy.stats import ttest_ind\n",
        "\n",
        "group1 = [12, 15, 14, 10, 13]\n",
        "group2 = [16, 18, 17, 14, 19]\n",
        "\n",
        "t_stat, p_val = ttest_ind(group1, group2)\n",
        "print(\"T-statistic:\", t_stat)\n",
        "print(\"P-value:\", p_val)\n",
        "\n",
        "alpha = 0.05\n",
        "if p_val < alpha:\n",
        "    print(\"Reject H₀: Means are significantly different.\")\n",
        "else:\n",
        "    print(\"Fail to reject H₀: No significant difference.\")\n",
        "\n",
        "'''"
      ],
      "metadata": {
        "colab": {
          "base_uri": "https://localhost:8080/",
          "height": 70
        },
        "id": "lvC6cVIMrLVA",
        "outputId": "d9d53dfa-9535-49ce-c197-e6140e0c11d2"
      },
      "execution_count": 23,
      "outputs": [
        {
          "output_type": "execute_result",
          "data": {
            "text/plain": [
              "'\\nfrom scipy.stats import ttest_ind\\n\\ngroup1 = [12, 15, 14, 10, 13]\\ngroup2 = [16, 18, 17, 14, 19]\\n\\nt_stat, p_val = ttest_ind(group1, group2)\\nprint(\"T-statistic:\", t_stat)\\nprint(\"P-value:\", p_val)\\n\\nalpha = 0.05\\nif p_val < alpha:\\n    print(\"Reject H₀: Means are significantly different.\")\\nelse:\\n    print(\"Fail to reject H₀: No significant difference.\")\\n\\n'"
            ],
            "application/vnd.google.colaboratory.intrinsic+json": {
              "type": "string"
            }
          },
          "metadata": {},
          "execution_count": 23
        }
      ]
    },
    {
      "cell_type": "code",
      "source": [
        "#7. Perform a paired sample T-test using Python and visualize the comparison results.\n",
        "'''\n",
        "import matplotlib.pyplot as plt\n",
        "from scipy.stats import ttest_rel\n",
        "\n",
        "# Sample paired data\n",
        "before = [22, 25, 19, 20, 21]\n",
        "after = [24, 28, 20, 22, 23]\n",
        "\n",
        "# Paired T-test\n",
        "t_stat, p_val = ttest_rel(before, after)\n",
        "print(\"T-statistic:\", t_stat)\n",
        "print(\"P-value:\", p_val)\n",
        "\n",
        "# Visualization\n",
        "plt.plot(before, label=\"Before\")\n",
        "plt.plot(after, label=\"After\")\n",
        "plt.title(\"Before vs After Comparison\")\n",
        "plt.xlabel(\"Subject\")\n",
        "plt.ylabel(\"Score\")\n",
        "plt.legend()\n",
        "plt.grid(True)\n",
        "plt.show()\n",
        "\n",
        "'''"
      ],
      "metadata": {
        "colab": {
          "base_uri": "https://localhost:8080/",
          "height": 87
        },
        "id": "7vZIoPQQmXxr",
        "outputId": "e05d210e-7d66-40ca-db75-55972fefe9f1"
      },
      "execution_count": 9,
      "outputs": [
        {
          "output_type": "execute_result",
          "data": {
            "text/plain": [
              "'\\nimport matplotlib.pyplot as plt\\nfrom scipy.stats import ttest_rel\\n\\n# Sample paired data\\nbefore = [22, 25, 19, 20, 21]\\nafter = [24, 28, 20, 22, 23]\\n\\n# Paired T-test\\nt_stat, p_val = ttest_rel(before, after)\\nprint(\"T-statistic:\", t_stat)\\nprint(\"P-value:\", p_val)\\n\\n# Visualization\\nplt.plot(before, label=\"Before\")\\nplt.plot(after, label=\"After\")\\nplt.title(\"Before vs After Comparison\")\\nplt.xlabel(\"Subject\")\\nplt.ylabel(\"Score\")\\nplt.legend()\\nplt.grid(True)\\nplt.show()\\n\\n'"
            ],
            "application/vnd.google.colaboratory.intrinsic+json": {
              "type": "string"
            }
          },
          "metadata": {},
          "execution_count": 9
        }
      ]
    },
    {
      "cell_type": "code",
      "source": [
        "#8. Simulate data and perform both Z-test and T-test, then compare the results using Python.\n",
        "'''\n",
        "import numpy as np\n",
        "from scipy.stats import ttest_1samp, norm\n",
        "\n",
        "# Simulate data\n",
        "np.random.seed(0)\n",
        "data = np.random.normal(loc=50, scale=10, size=30)\n",
        "mu = 52\n",
        "\n",
        "# T-test\n",
        "t_stat, t_p = ttest_1samp(data, mu)\n",
        "\n",
        "# Z-test\n",
        "z = (np.mean(data) - mu) / (np.std(data, ddof=1) / np.sqrt(len(data)))\n",
        "z_p = 2 * (1 - norm.cdf(abs(z)))\n",
        "\n",
        "print(\"T-test: t =\", t_stat, \", p =\", t_p)\n",
        "print(\"Z-test: z =\", z, \", p =\", z_p)\n",
        "\n",
        "'''"
      ],
      "metadata": {
        "colab": {
          "base_uri": "https://localhost:8080/",
          "height": 70
        },
        "id": "B11XXDJWoeG2",
        "outputId": "7adce7cb-733e-4df8-ff83-22efc9624400"
      },
      "execution_count": 10,
      "outputs": [
        {
          "output_type": "execute_result",
          "data": {
            "text/plain": [
              "'\\nimport numpy as np\\nfrom scipy.stats import ttest_1samp, norm\\n\\n# Simulate data\\nnp.random.seed(0)\\ndata = np.random.normal(loc=50, scale=10, size=30)\\nmu = 52\\n\\n# T-test\\nt_stat, t_p = ttest_1samp(data, mu)\\n\\n# Z-test\\nz = (np.mean(data) - mu) / (np.std(data, ddof=1) / np.sqrt(len(data)))\\nz_p = 2 * (1 - norm.cdf(abs(z)))\\n\\nprint(\"T-test: t =\", t_stat, \", p =\", t_p)\\nprint(\"Z-test: z =\", z, \", p =\", z_p)\\n\\n'"
            ],
            "application/vnd.google.colaboratory.intrinsic+json": {
              "type": "string"
            }
          },
          "metadata": {},
          "execution_count": 10
        }
      ]
    },
    {
      "cell_type": "code",
      "source": [
        "#9. Write a Python function to calculate the confidence interval for a sample mean and explain its significance.\n",
        "'''\n",
        "from scipy.stats import t\n",
        "\n",
        "def confidence_interval(data, confidence=0.95):\n",
        "    n = len(data)\n",
        "    mean = np.mean(data)\n",
        "    se = np.std(data, ddof=1) / np.sqrt(n)\n",
        "    margin = t.ppf((1 + confidence) / 2, n - 1) * se\n",
        "    return mean - margin, mean + margin\n",
        "\n",
        "# Example\n",
        "data = [100, 102, 98, 97, 103, 101]\n",
        "ci = confidence_interval(data)\n",
        "print(\"95% Confidence Interval:\", ci)\n",
        "\n",
        "'''"
      ],
      "metadata": {
        "colab": {
          "base_uri": "https://localhost:8080/",
          "height": 70
        },
        "id": "xYtA2Pm3oy7a",
        "outputId": "b8dc8c28-c257-4478-a86b-2a764efa59d4"
      },
      "execution_count": 11,
      "outputs": [
        {
          "output_type": "execute_result",
          "data": {
            "text/plain": [
              "'\\nfrom scipy.stats import t\\n\\ndef confidence_interval(data, confidence=0.95):\\n    n = len(data)\\n    mean = np.mean(data)\\n    se = np.std(data, ddof=1) / np.sqrt(n)\\n    margin = t.ppf((1 + confidence) / 2, n - 1) * se\\n    return mean - margin, mean + margin\\n\\n# Example\\ndata = [100, 102, 98, 97, 103, 101]\\nci = confidence_interval(data)\\nprint(\"95% Confidence Interval:\", ci)\\n\\n'"
            ],
            "application/vnd.google.colaboratory.intrinsic+json": {
              "type": "string"
            }
          },
          "metadata": {},
          "execution_count": 11
        }
      ]
    },
    {
      "cell_type": "code",
      "source": [
        "#10. Write a Python program to calculate the margin of error for a given confidence level using sample data.\n",
        "'''\n",
        "from scipy.stats import norm\n",
        "\n",
        "def margin_of_error(std_dev, n, confidence=0.95):\n",
        "    z = norm.ppf((1 + confidence) / 2)\n",
        "    return z * (std_dev / np.sqrt(n))\n",
        "\n",
        "# Example\n",
        "moe = margin_of_error(std_dev=15, n=50)\n",
        "print(\"Margin of Error:\", moe)\n",
        "\n",
        "'''"
      ],
      "metadata": {
        "colab": {
          "base_uri": "https://localhost:8080/",
          "height": 53
        },
        "id": "S7ocLlrbo5MF",
        "outputId": "b23f4f5b-6984-4193-99aa-68c862015a2b"
      },
      "execution_count": 12,
      "outputs": [
        {
          "output_type": "execute_result",
          "data": {
            "text/plain": [
              "'\\nfrom scipy.stats import norm\\n\\ndef margin_of_error(std_dev, n, confidence=0.95):\\n    z = norm.ppf((1 + confidence) / 2)\\n    return z * (std_dev / np.sqrt(n))\\n\\n# Example\\nmoe = margin_of_error(std_dev=15, n=50)\\nprint(\"Margin of Error:\", moe)\\n\\n'"
            ],
            "application/vnd.google.colaboratory.intrinsic+json": {
              "type": "string"
            }
          },
          "metadata": {},
          "execution_count": 12
        }
      ]
    },
    {
      "cell_type": "code",
      "source": [
        "#11. Implement a Bayesian inference method using Bayes' Theorem in Python and explain the process.\n",
        "'''\n",
        "def bayes_theorem(p_A, p_B_given_A, p_B_given_not_A):\n",
        "    p_not_A = 1 - p_A\n",
        "    p_B = p_B_given_A * p_A + p_B_given_not_A * p_not_A\n",
        "    p_A_given_B = (p_B_given_A * p_A) / p_B\n",
        "    return p_A_given_B\n",
        "\n",
        "# Example: Disease detection\n",
        "p_disease = 0.01\n",
        "p_pos_given_disease = 0.99\n",
        "p_pos_given_no_disease = 0.05\n",
        "\n",
        "posterior = bayes_theorem(p_disease, p_pos_given_disease, p_pos_given_no_disease)\n",
        "print(\"P(Disease | Positive Test):\", posterior)\n",
        "\n",
        "'''"
      ],
      "metadata": {
        "colab": {
          "base_uri": "https://localhost:8080/",
          "height": 70
        },
        "id": "QwqTxeyCo_Dd",
        "outputId": "f65ef6ad-eaff-40e9-f4e6-e2a18246825a"
      },
      "execution_count": 13,
      "outputs": [
        {
          "output_type": "execute_result",
          "data": {
            "text/plain": [
              "'\\ndef bayes_theorem(p_A, p_B_given_A, p_B_given_not_A):\\n    p_not_A = 1 - p_A\\n    p_B = p_B_given_A * p_A + p_B_given_not_A * p_not_A\\n    p_A_given_B = (p_B_given_A * p_A) / p_B\\n    return p_A_given_B\\n\\n# Example: Disease detection\\np_disease = 0.01\\np_pos_given_disease = 0.99\\np_pos_given_no_disease = 0.05\\n\\nposterior = bayes_theorem(p_disease, p_pos_given_disease, p_pos_given_no_disease)\\nprint(\"P(Disease | Positive Test):\", posterior)\\n\\n'"
            ],
            "application/vnd.google.colaboratory.intrinsic+json": {
              "type": "string"
            }
          },
          "metadata": {},
          "execution_count": 13
        }
      ]
    },
    {
      "cell_type": "code",
      "source": [
        "#12. Perform a Chi-square test for independence between two categorical variables in Python.\n",
        "'''\n",
        "import pandas as pd\n",
        "from scipy.stats import chi2_contingency\n",
        "\n",
        "# Contingency table\n",
        "data = [[20, 15],\n",
        "        [30, 35]]\n",
        "table = pd.DataFrame(data, columns=[\"Yes\", \"No\"], index=[\"Group A\", \"Group B\"])\n",
        "\n",
        "chi2, p, dof, expected = chi2_contingency(table)\n",
        "print(\"Chi-square:\", chi2)\n",
        "print(\"p-value:\", p)\n",
        "\n",
        "'''"
      ],
      "metadata": {
        "colab": {
          "base_uri": "https://localhost:8080/",
          "height": 53
        },
        "id": "eFylyX0IpES0",
        "outputId": "5c2f69b7-c175-4822-ac21-73ad89f2b9cf"
      },
      "execution_count": 14,
      "outputs": [
        {
          "output_type": "execute_result",
          "data": {
            "text/plain": [
              "'\\nimport pandas as pd\\nfrom scipy.stats import chi2_contingency\\n\\n# Contingency table\\ndata = [[20, 15],\\n        [30, 35]]\\ntable = pd.DataFrame(data, columns=[\"Yes\", \"No\"], index=[\"Group A\", \"Group B\"])\\n\\nchi2, p, dof, expected = chi2_contingency(table)\\nprint(\"Chi-square:\", chi2)\\nprint(\"p-value:\", p)\\n\\n'"
            ],
            "application/vnd.google.colaboratory.intrinsic+json": {
              "type": "string"
            }
          },
          "metadata": {},
          "execution_count": 14
        }
      ]
    },
    {
      "cell_type": "code",
      "source": [
        "#13. Write a Python program to calculate the expected frequencies for a Chi-square test based on observed data.\n",
        "'''\n",
        "observed = np.array([[20, 15],\n",
        "                     [30, 35]])\n",
        "\n",
        "row_totals = observed.sum(axis=1).reshape(-1, 1)\n",
        "col_totals = observed.sum(axis=0).reshape(1, -1)\n",
        "grand_total = observed.sum()\n",
        "\n",
        "expected = row_totals @ col_totals / grand_total\n",
        "print(\"Expected Frequencies:\\n\", expected)\n",
        "\n",
        "'''"
      ],
      "metadata": {
        "colab": {
          "base_uri": "https://localhost:8080/",
          "height": 53
        },
        "id": "KleQe3INpIRJ",
        "outputId": "2a38eebb-3106-48d2-993c-c13f8f7926f6"
      },
      "execution_count": 15,
      "outputs": [
        {
          "output_type": "execute_result",
          "data": {
            "text/plain": [
              "'\\nobserved = np.array([[20, 15],\\n                     [30, 35]])\\n\\nrow_totals = observed.sum(axis=1).reshape(-1, 1)\\ncol_totals = observed.sum(axis=0).reshape(1, -1)\\ngrand_total = observed.sum()\\n\\nexpected = row_totals @ col_totals / grand_total\\nprint(\"Expected Frequencies:\\n\", expected)\\n\\n'"
            ],
            "application/vnd.google.colaboratory.intrinsic+json": {
              "type": "string"
            }
          },
          "metadata": {},
          "execution_count": 15
        }
      ]
    },
    {
      "cell_type": "code",
      "source": [
        "#14. Perform a goodness-of-fit test using Python to compare the observed data to an expected distribution.\n",
        "'''\n",
        "from scipy.stats import chisquare\n",
        "\n",
        "# Observed frequencies\n",
        "observed = [18, 22, 20, 25, 15]\n",
        "# Expected frequencies (e.g., uniform)\n",
        "expected = [20, 20, 20, 20, 20]\n",
        "\n",
        "chi2_stat, p_val = chisquare(f_obs=observed, f_exp=expected)\n",
        "print(\"Chi-square statistic:\", chi2_stat)\n",
        "print(\"P-value:\", p_val)\n",
        "\n",
        "\n",
        "'''"
      ],
      "metadata": {
        "colab": {
          "base_uri": "https://localhost:8080/",
          "height": 53
        },
        "id": "dmqGR6yEpOId",
        "outputId": "7bb9fc8a-80ee-431a-b560-89e0e8b7a43e"
      },
      "execution_count": 16,
      "outputs": [
        {
          "output_type": "execute_result",
          "data": {
            "text/plain": [
              "'\\nfrom scipy.stats import chisquare\\n\\n# Observed frequencies\\nobserved = [18, 22, 20, 25, 15]\\n# Expected frequencies (e.g., uniform)\\nexpected = [20, 20, 20, 20, 20]\\n\\nchi2_stat, p_val = chisquare(f_obs=observed, f_exp=expected)\\nprint(\"Chi-square statistic:\", chi2_stat)\\nprint(\"P-value:\", p_val)\\n\\n\\n'"
            ],
            "application/vnd.google.colaboratory.intrinsic+json": {
              "type": "string"
            }
          },
          "metadata": {},
          "execution_count": 16
        }
      ]
    },
    {
      "cell_type": "code",
      "source": [],
      "metadata": {
        "id": "-PA4KIyOpWb0"
      },
      "execution_count": null,
      "outputs": []
    }
  ]
}